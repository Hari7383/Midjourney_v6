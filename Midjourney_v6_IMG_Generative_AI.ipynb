{
  "nbformat": 4,
  "nbformat_minor": 0,
  "metadata": {
    "colab": {
      "provenance": [],
      "gpuType": "T4"
    },
    "kernelspec": {
      "name": "python3",
      "display_name": "Python 3"
    },
    "language_info": {
      "name": "python"
    },
    "accelerator": "GPU"
  },
  "cells": [
    {
      "cell_type": "markdown",
      "source": [
        "**Try This Anaconda/jupyter notebook**"
      ],
      "metadata": {
        "id": "iXfCCYbYldAL"
      }
    },
    {
      "cell_type": "markdown",
      "source": [
        "**Midjourney V6**"
      ],
      "metadata": {
        "id": "ObdgdZGtlLZX"
      }
    },
    {
      "cell_type": "code",
      "source": [
        "import requests\n",
        "\n",
        "API_URL = \"https://api-inference.huggingface.co/models/Kvikontent/midjourney-v7\"\n",
        "headers = {\"Authorization\": \"Enter you'r HUGGINGFACE_API_TOKEN\"}\n",
        "\n",
        "def query(payload):\n",
        "    response = requests.post(API_URL, headers=headers, json=payload)\n",
        "    return response.content\n",
        "response = query({\n",
        "    \"inputs\": \"Astronaut riding a horse\",\n",
        "})"
      ],
      "metadata": {
        "id": "eNBdY1ySk4Tl"
      },
      "execution_count": null,
      "outputs": []
    },
    {
      "cell_type": "code",
      "source": [
        "import io\n",
        "from PIL import Image\n",
        "image = Image.open(io.BytesIO(response))\n",
        "image.show()"
      ],
      "metadata": {
        "id": "n5dqCpXQk_C2"
      },
      "execution_count": null,
      "outputs": []
    },
    {
      "cell_type": "markdown",
      "source": [
        "**Try Except method**"
      ],
      "metadata": {
        "id": "-q0BUbuxlAa_"
      }
    },
    {
      "cell_type": "code",
      "source": [
        "import requests\n",
        "import io\n",
        "from PIL import Image\n",
        "\n",
        "API_URL = \"https://api-inference.huggingface.co/models/Kvikontent/midjourney-v7\"\n",
        "headers = {\"Authorization\": \"Enter you'r HUGGINGFACE_API_TOKEN\"}\n",
        "\n",
        "def query(payload):\n",
        "    response = requests.post(API_URL, headers=headers, json=payload)\n",
        "    # Check if the response status is 200 (OK) before proceeding\n",
        "    if response.status_code == 200:\n",
        "        return response.content\n",
        "    else:\n",
        "        # Print response text if there's an error\n",
        "        print(\"Error:\", response.status_code, response.text)\n",
        "        return None\n",
        "\n",
        "response = query({\n",
        "    \"inputs\": \"Astronaut riding a horse\",\n",
        "})\n",
        "\n",
        "# Only attempt to open the image if response content is valid\n",
        "if response:\n",
        "    try:\n",
        "        image = Image.open(io.BytesIO(response))\n",
        "        image.show()  # Display the image\n",
        "    except Image.UnidentifiedImageError:\n",
        "        print(\"The response is not a valid image format.\")\n",
        "else:\n",
        "    print(\"No image data returned from the API.\")\n"
      ],
      "metadata": {
        "id": "uqy-g-QekxaE"
      },
      "execution_count": 27,
      "outputs": []
    }
  ]
}